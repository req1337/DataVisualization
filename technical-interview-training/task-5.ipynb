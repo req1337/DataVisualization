{
 "cells": [
  {
   "cell_type": "markdown",
   "metadata": {},
   "source": [
    "# Question 5\n",
    "\n",
    "Find the element in a singly linked list that's m elements from the end. For example, if a linked list has 5 elements, the 3rd element from the end is the 3rd element. The function definition should look like question5(ll, m), where ll is the first node of a linked list and m is the \"mth number from the end\". You should copy/paste the Node class below to use as a representation of a node in the linked list. Return the value of the node at that position."
   ]
  },
  {
   "cell_type": "code",
   "execution_count": 59,
   "metadata": {
    "collapsed": false
   },
   "outputs": [],
   "source": [
    "class Node(object):\n",
    "    def __init__(self, data):\n",
    "        self.data = data\n",
    "        self.next = None\n",
    "        \n",
    "class LinkedList(object):\n",
    "    def __init__(self, head=None):\n",
    "        self.head = head\n",
    "        \n",
    "    def append(self, new_element):\n",
    "        \"\"\"Append an element to the end of the list\"\"\"\n",
    "        current = self.head\n",
    "        if self.head:\n",
    "            while current.next:\n",
    "                current = current.next\n",
    "            current.next = new_element\n",
    "        else:\n",
    "            self.head = new_element\n",
    "            \n",
    "    def get_node(self, n):\n",
    "        \"\"\"Return the nth node from the end of a linked list\"\"\"\n",
    "\n",
    "        if n < 0:\n",
    "            return\n",
    "        \n",
    "        # Make pointers 1 and 2 start from the head\n",
    "        p1, p2 = self.head, self.head\n",
    "        \n",
    "        # Move p2 n times\n",
    "        for i in range(n):\n",
    "            if p2 == None:\n",
    "                return\n",
    "            p2 = p2.next\n",
    "            \n",
    "        # Repeat until p2 is at the end\n",
    "        while p2.next:\n",
    "            p1, p2 = p1.next, p2.next\n",
    "        \n",
    "        return p1.data\n",
    "          \n",
    "def question5(ll, m):\n",
    "    return ll.get_node(m)\n",
    "        \n",
    "# Initialize linked list\n",
    "ll = LinkedList(Node(1))\n",
    "ll.append(Node(2))\n",
    "ll.append(Node(3))\n",
    "ll.append(Node(4))\n",
    "ll.append(Node(5))\n",
    "\n",
    "# Test cases\n",
    "assert(question5(ll, 6) == None)\n",
    "assert(question5(ll, -4) == None)\n",
    "assert(question5(ll, 0) == 5)\n",
    "assert(question5(ll, 2) == 3)"
   ]
  },
  {
   "cell_type": "markdown",
   "metadata": {},
   "source": [
    "**Implementation details:**\n",
    "\n",
    "For this particular problem i considered three different solutions before landing on the final one.\n",
    "\n",
    "1. My first thought was to simply create a linked list class that keeps track of its length, then get node number length - n. \n",
    "2. Using recursion and counting backwards when reaching the end\n",
    "3. Using two pointers n steps apart, returning p1 when p2 reaches the end of the list\n",
    "4. Using a stack where we add every every single node to the stack, then pop n nodes returning the last one\n",
    "\n",
    "The computational complexity should be O(n), where n is the length of the list"
   ]
  },
  {
   "cell_type": "code",
   "execution_count": null,
   "metadata": {
    "collapsed": true
   },
   "outputs": [],
   "source": []
  }
 ],
 "metadata": {
  "kernelspec": {
   "display_name": "Python 2",
   "language": "python",
   "name": "python2"
  },
  "language_info": {
   "codemirror_mode": {
    "name": "ipython",
    "version": 2
   },
   "file_extension": ".py",
   "mimetype": "text/x-python",
   "name": "python",
   "nbconvert_exporter": "python",
   "pygments_lexer": "ipython2",
   "version": "2.7.11"
  }
 },
 "nbformat": 4,
 "nbformat_minor": 0
}
