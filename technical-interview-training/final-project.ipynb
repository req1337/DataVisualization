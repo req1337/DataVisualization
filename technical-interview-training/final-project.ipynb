{
 "cells": [
  {
   "cell_type": "markdown",
   "metadata": {},
   "source": [
    "# Question 1\n",
    "\n",
    "Given two strings s and t, determine whether some anagram of t is a substring of s. For example: if s = \"udacity\" and t = \"ad\", then the function returns True. Your function definition should look like: question1(s, t) and return a boolean True or False."
   ]
  },
  {
   "cell_type": "code",
   "execution_count": 40,
   "metadata": {
    "collapsed": false
   },
   "outputs": [],
   "source": [
    "from itertools import permutations\n",
    "\n",
    "def question1(s, t):\n",
    "    # Generate all possible anagrams of t\n",
    "    anagrams = [''.join(p) for p in permutations(t, len(t))]\n",
    "    for a in anagrams:\n",
    "        if a in s:\n",
    "            return True\n",
    "    return False\n",
    "    \n",
    "assert(question1(\"udacity\", \"ad\") == True)\n",
    "assert(question1(\"udacity\", \"ucy\") == False)"
   ]
  },
  {
   "cell_type": "markdown",
   "metadata": {},
   "source": [
    "**Implementation details:**"
   ]
  },
  {
   "cell_type": "markdown",
   "metadata": {},
   "source": [
    "# Question 2\n",
    "\n",
    "Given a string a, find the longest palindromic substring contained in a. Your function definition should look like question2(a), and return a string."
   ]
  },
  {
   "cell_type": "code",
   "execution_count": 96,
   "metadata": {
    "collapsed": false
   },
   "outputs": [],
   "source": [
    "from itertools import combinations\n",
    "\n",
    "def get_substrings(a):\n",
    "    \"\"\" Get all sub-strings of a before sorting and returning them in decending order by length \"\"\"\n",
    "    l = len(a)\n",
    "    sub = [a[i:j+1] for i in range(l) for j in range(i, l)]\n",
    "    return sorted(sub, key=len, reverse=True)\n",
    "\n",
    "def is_palindrome(a):\n",
    "    \"\"\" Checks if a string is a palindrome by comparing the letters starting at opposite sides \"\"\"\n",
    "    l = len(a)\n",
    "    for i in range(0, l/2):\n",
    "        if a[i] != a[l - i - 1]:     \n",
    "            return False;\n",
    "    return True;\n",
    "\n",
    "def question2(a):\n",
    "    for s in get_substrings(a):\n",
    "        if is_palindrome(s) == True:\n",
    "            return s\n",
    "        \n",
    "assert(question2(\"sadsggfyjsdfeeyjeeeabaccddccefesdetyukhn\") == \"ccddcc\")"
   ]
  },
  {
   "cell_type": "markdown",
   "metadata": {},
   "source": [
    "**Implementation details:**"
   ]
  },
  {
   "cell_type": "markdown",
   "metadata": {},
   "source": [
    "# Question 3\n",
    "\n",
    "Given an undirected graph G, find the minimum spanning tree within G. A minimum spanning tree connects all vertices in a graph with the smallest possible total weight of edges."
   ]
  },
  {
   "cell_type": "code",
   "execution_count": null,
   "metadata": {
    "collapsed": true
   },
   "outputs": [],
   "source": [
    "def question3(g):\n",
    "\n",
    "graph = {\n",
    "    'A': [('B', 2)],\n",
    "    'B': [('A', 2), ('C', 5)], \n",
    "    'C': [('B', 5)]\n",
    "}"
   ]
  }
 ],
 "metadata": {
  "kernelspec": {
   "display_name": "Python 2",
   "language": "python",
   "name": "python2"
  },
  "language_info": {
   "codemirror_mode": {
    "name": "ipython",
    "version": 2
   },
   "file_extension": ".py",
   "mimetype": "text/x-python",
   "name": "python",
   "nbconvert_exporter": "python",
   "pygments_lexer": "ipython2",
   "version": "2.7.11"
  }
 },
 "nbformat": 4,
 "nbformat_minor": 0
}
