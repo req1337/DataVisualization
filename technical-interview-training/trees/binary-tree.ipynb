{
 "cells": [
  {
   "cell_type": "markdown",
   "metadata": {},
   "source": [
    "# Binary Tree\n",
    "\n",
    "In computer science, a binary tree is a tree data structure in which each node has at most two children, which are referred to as the left child and the right child."
   ]
  },
  {
   "cell_type": "code",
   "execution_count": 20,
   "metadata": {
    "collapsed": false
   },
   "outputs": [
    {
     "name": "stdout",
     "output_type": "stream",
     "text": [
      "True\n",
      "True\n",
      "False\n",
      "False\n",
      "[1, 2, 4, 5, 3]\n"
     ]
    }
   ],
   "source": [
    "class Node(object):\n",
    "    def __init__(self, value):\n",
    "        self.value = value\n",
    "        self.left = None\n",
    "        self.right = None\n",
    "\n",
    "class BinaryTree(object):\n",
    "    def __init__(self, root):\n",
    "        self.root = Node(root)\n",
    "\n",
    "    def search(self, find_val):\n",
    "        \"\"\" Iterative implementation of preorder search\"\"\"\n",
    "        s = [self.root]\n",
    "        while s:\n",
    "            node = s.pop()\n",
    "            if node.value == find_val:\n",
    "                return True\n",
    "            if node.right:\n",
    "                s.append(node.right)\n",
    "            if node.left:\n",
    "                s.append(node.left)\n",
    "        return False\n",
    "\n",
    "    def print_tree(self):\n",
    "        \"\"\" Display every node in a tree \"\"\"\n",
    "        return self.preorder_print(self.root, [])\n",
    "    \n",
    "    def preorder_search(self, node, find_val):\n",
    "        \"\"\" Recursive implementation of preorder search\"\"\"\n",
    "        if node == None:\n",
    "            return False\n",
    "        if node.value == find_val:\n",
    "            return True\n",
    "        else:\n",
    "            return self.preorder_search(node.left, find_val) or self.preorder_search(node.right, find_val)\n",
    "\n",
    "    def preorder_print(self, node, traversal):\n",
    "        \"\"\" Display all nodes using preorder traversal \"\"\"\n",
    "        if node == None:\n",
    "            return\n",
    "        traversal.append(node.value)\n",
    "        self.preorder_print(node.left, traversal)\n",
    "        self.preorder_print(node.right, traversal)\n",
    "        return traversal\n",
    "\n",
    "# Set up tree\n",
    "tree = BinaryTree(1)\n",
    "tree.root.left = Node(2)\n",
    "tree.root.right = Node(3)\n",
    "tree.root.left.left = Node(4)\n",
    "tree.root.left.right = Node(5)\n",
    "\n",
    "# Test search\n",
    "# Should be True\n",
    "print tree.search(4)\n",
    "print(tree.preorder_search(tree.root, 4))\n",
    "# Should be False\n",
    "print tree.search(6)\n",
    "print(tree.preorder_search(tree.root, 6))\n",
    "\n",
    "# Test print_tree\n",
    "# Should be 1-2-4-5-3\n",
    "print tree.print_tree()"
   ]
  },
  {
   "cell_type": "code",
   "execution_count": null,
   "metadata": {
    "collapsed": true
   },
   "outputs": [],
   "source": []
  }
 ],
 "metadata": {
  "kernelspec": {
   "display_name": "Python 2",
   "language": "python",
   "name": "python2"
  },
  "language_info": {
   "codemirror_mode": {
    "name": "ipython",
    "version": 2
   },
   "file_extension": ".py",
   "mimetype": "text/x-python",
   "name": "python",
   "nbconvert_exporter": "python",
   "pygments_lexer": "ipython2",
   "version": "2.7.11"
  }
 },
 "nbformat": 4,
 "nbformat_minor": 0
}
