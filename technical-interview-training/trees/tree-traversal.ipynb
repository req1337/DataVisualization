{
 "cells": [
  {
   "cell_type": "markdown",
   "metadata": {},
   "source": [
    "# Tree Traversal\n",
    "\n",
    "In computer science, tree traversal (also known as tree search) is a form of graph traversal and refers to the process of visiting (checking and/or updating) each node in a tree data structure, exactly once. Such traversals are classified by the order in which the nodes are visited. The following algorithms are described for a binary tree, but they may be generalized to other trees as well."
   ]
  },
  {
   "cell_type": "code",
   "execution_count": 2,
   "metadata": {
    "collapsed": false
   },
   "outputs": [],
   "source": [
    "from collections import deque\n",
    "\n",
    "class Node(object):\n",
    "    def __init__(self, value):\n",
    "        self.value = value\n",
    "        self.left = None\n",
    "        self.right = None\n",
    "        \n",
    "class Tree(object):\n",
    "    def __init__(self, root=None):\n",
    "        self.root = root\n",
    "        \n",
    "    def visit(self, node):\n",
    "        print(node.value)\n",
    "        \n",
    "    ### Depth-first search (DFS) ###    \n",
    "    def pre_order(self, node):\n",
    "        if node == None:\n",
    "            return\n",
    "        self.visit(node)\n",
    "        self.pre_order(node.left)\n",
    "        self.pre_order(node.right)\n",
    "    \n",
    "    def in_order(self, node):\n",
    "        if node == None:\n",
    "            return\n",
    "        self.in_order(node.left)\n",
    "        self.visit(node)\n",
    "        self.in_order(node.right)\n",
    "    \n",
    "    def post_order(self, node):\n",
    "        if node == None:\n",
    "            return\n",
    "        self.post_order(node.left)\n",
    "        self.post_order(node.right)\n",
    "        self.visit(node)\n",
    "    \n",
    "    ### Breadth-first search (BFS) ###\n",
    "    def bfs(self, root):\n",
    "        q = deque()\n",
    "        q.append(root)\n",
    "        while q:\n",
    "            node = q.popleft()\n",
    "            self.visit(node)\n",
    "            if node.left:\n",
    "                q.append(node.left)\n",
    "            if node.right:\n",
    "                q.append(node.right)\n",
    "    \n",
    "# Create tree nodes    \n",
    "root = Node(\"A\")\n",
    "root.left = Node(\"B\")\n",
    "root.right = Node(\"C\")\n",
    "root.left.left = Node(\"D\")\n",
    "root.left.right = Node(\"E\")\n",
    "root.right.right = Node(\"F\")\n",
    "\n",
    "# Initialize tree\n",
    "tree = Tree(root)"
   ]
  },
  {
   "cell_type": "markdown",
   "metadata": {},
   "source": [
    "### Output"
   ]
  },
  {
   "cell_type": "code",
   "execution_count": 4,
   "metadata": {
    "collapsed": false
   },
   "outputs": [
    {
     "name": "stdout",
     "output_type": "stream",
     "text": [
      "Pre-Order\n",
      "A\n",
      "B\n",
      "D\n",
      "E\n",
      "C\n",
      "F\n",
      "\n",
      "In-Order\n",
      "D\n",
      "B\n",
      "E\n",
      "A\n",
      "C\n",
      "F\n",
      "\n",
      "Post-Order\n",
      "D\n",
      "E\n",
      "B\n",
      "F\n",
      "C\n",
      "A\n",
      "\n",
      "BFS\n",
      "A\n",
      "B\n",
      "C\n",
      "D\n",
      "E\n",
      "F\n"
     ]
    }
   ],
   "source": [
    "print(\"Pre-Order\")\n",
    "tree.pre_order(root)\n",
    "\n",
    "print(\"\\nIn-Order\")\n",
    "tree.in_order(root)\n",
    "\n",
    "print(\"\\nPost-Order\")\n",
    "tree.post_order(root)\n",
    "\n",
    "print(\"\\nBFS\")\n",
    "tree.bfs(root)"
   ]
  }
 ],
 "metadata": {
  "kernelspec": {
   "display_name": "Python 2",
   "language": "python",
   "name": "python2"
  },
  "language_info": {
   "codemirror_mode": {
    "name": "ipython",
    "version": 2
   },
   "file_extension": ".py",
   "mimetype": "text/x-python",
   "name": "python",
   "nbconvert_exporter": "python",
   "pygments_lexer": "ipython2",
   "version": "2.7.11"
  }
 },
 "nbformat": 4,
 "nbformat_minor": 0
}
