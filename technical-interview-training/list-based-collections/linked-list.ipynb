{
 "cells": [
  {
   "cell_type": "markdown",
   "metadata": {},
   "source": [
    "# Linked List\n",
    "\n",
    "In computer science, a linked list is a linear collection of data elements, called nodes, each pointing to the next node by means of a pointer. It is a data structure consisting of a group of nodes which together represent a sequence."
   ]
  },
  {
   "cell_type": "code",
   "execution_count": 198,
   "metadata": {
    "collapsed": false
   },
   "outputs": [],
   "source": [
    "# Element, which will be a single unit in a linked list\n",
    "class Element(object):\n",
    "    def __init__(self, value):\n",
    "        self.value = value\n",
    "        self.next = None\n",
    "\n",
    "class LinkedList(object):\n",
    "    def __init__(self, head=None):\n",
    "        self.head = head\n",
    "        \n",
    "    def display_list(self):\n",
    "        \"\"\"Get the value of all elements stored in the list\"\"\"\n",
    "        result = []\n",
    "        current = self.head\n",
    "        while current:\n",
    "            result.append(current.value)\n",
    "            current = current.next\n",
    "        return result\n",
    "        \n",
    "    def append(self, new_element):\n",
    "        \"\"\"Append an element to the end of the list\"\"\"\n",
    "        current = self.head\n",
    "        if self.head:\n",
    "            while current.next:\n",
    "                current = current.next\n",
    "            current.next = new_element\n",
    "        else:\n",
    "            self.head = new_element\n",
    "            \n",
    "    def get_position(self, position):\n",
    "        \"\"\"Get an element from a particular position.\n",
    "        Assume the first position is \"1\".\n",
    "        Return \"None\" if position is not in the list.\"\"\"\n",
    "        c = 1\n",
    "        current = self.head\n",
    "        \n",
    "        if position < 1:\n",
    "            return None\n",
    "        \n",
    "        while current and c <= position:\n",
    "            if c == position:\n",
    "                return current\n",
    "            current = current.next\n",
    "            c += 1\n",
    "            \n",
    "        return None\n",
    "    \n",
    "    def insert(self, new_element, position):\n",
    "        \"\"\"Insert a new node at the given position.\n",
    "        Assume the first position is \"1\".\n",
    "        Inserting at position 3 means between\n",
    "        the 2nd and 3rd elements.\"\"\"\n",
    "        c = 1\n",
    "        current = self.head\n",
    "        if position > 1:\n",
    "            while current and c < position:\n",
    "                if c == position-1:\n",
    "                    new_element.next = current.next\n",
    "                    current.next = new_element\n",
    "                current = current.next\n",
    "                c += 1\n",
    "        elif position == 1:\n",
    "            # Next element is the current head element\n",
    "            new_element.next = self.head\n",
    "            self.head = new_element\n",
    "    \n",
    "    \n",
    "    def delete(self, value):\n",
    "        \"\"\"Delete the first node with a given value.\"\"\"\n",
    "        current = self.head\n",
    "        previous = None\n",
    "        while current.value != value and current.next:\n",
    "            previous = current\n",
    "            current = current.next\n",
    "        if current.value == value:\n",
    "            if previous:\n",
    "                previous.next = current.next\n",
    "            else:\n",
    "                self.head = current.next"
   ]
  },
  {
   "cell_type": "code",
   "execution_count": 199,
   "metadata": {
    "collapsed": false
   },
   "outputs": [
    {
     "name": "stdout",
     "output_type": "stream",
     "text": [
      "[1, 2, 3]\n"
     ]
    }
   ],
   "source": [
    "# Test cases\n",
    "# Set up some Elements\n",
    "e1 = Element(1)\n",
    "e2 = Element(2)\n",
    "e3 = Element(3)\n",
    "e4 = Element(4)\n",
    "\n",
    "# Start setting up a LinkedList\n",
    "ll = LinkedList(e1)\n",
    "ll.append(e2)\n",
    "ll.append(e3)\n",
    "\n",
    "print(ll.display_list())"
   ]
  },
  {
   "cell_type": "code",
   "execution_count": 190,
   "metadata": {
    "collapsed": false
   },
   "outputs": [
    {
     "name": "stdout",
     "output_type": "stream",
     "text": [
      "3\n",
      "3\n"
     ]
    }
   ],
   "source": [
    "# Test get_position\n",
    "# Should print 3\n",
    "print ll.head.next.next.value\n",
    "# Should also print 3\n",
    "print ll.get_position(3).value"
   ]
  },
  {
   "cell_type": "code",
   "execution_count": 191,
   "metadata": {
    "collapsed": false
   },
   "outputs": [
    {
     "name": "stdout",
     "output_type": "stream",
     "text": [
      "4\n",
      "[1, 2, 4, 3]\n"
     ]
    }
   ],
   "source": [
    "# Test insert\n",
    "ll.insert(e4, 3)\n",
    "# Should print 4 now\n",
    "print ll.get_position(3).value\n",
    "\n",
    "print(ll.display_list())"
   ]
  },
  {
   "cell_type": "code",
   "execution_count": 192,
   "metadata": {
    "collapsed": false
   },
   "outputs": [
    {
     "name": "stdout",
     "output_type": "stream",
     "text": [
      "2\n",
      "4\n",
      "3\n",
      "[2, 4, 3]\n"
     ]
    }
   ],
   "source": [
    "# Test delete\n",
    "ll.delete(1)\n",
    "\n",
    "# Should print 2 now\n",
    "print ll.get_position(1).value\n",
    "# Should print 4 now\n",
    "print ll.get_position(2).value\n",
    "# Should print 3 now\n",
    "print ll.get_position(3).value\n",
    "\n",
    "print(ll.display_list())"
   ]
  }
 ],
 "metadata": {
  "kernelspec": {
   "display_name": "Python 2",
   "language": "python",
   "name": "python2"
  },
  "language_info": {
   "codemirror_mode": {
    "name": "ipython",
    "version": 2
   },
   "file_extension": ".py",
   "mimetype": "text/x-python",
   "name": "python",
   "nbconvert_exporter": "python",
   "pygments_lexer": "ipython2",
   "version": "2.7.11"
  }
 },
 "nbformat": 4,
 "nbformat_minor": 0
}
