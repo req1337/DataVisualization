{
 "cells": [
  {
   "cell_type": "code",
   "execution_count": 13,
   "metadata": {
    "collapsed": false
   },
   "outputs": [
    {
     "name": "stdout",
     "output_type": "stream",
     "text": [
      "-1\n",
      "4\n",
      "0\n"
     ]
    }
   ],
   "source": [
    "\"\"\"You're going to write a binary search function. Use an iterative approach - using loops.\"\"\"\n",
    "\n",
    "import math\n",
    "\n",
    "def binary_search(input_array, value):\n",
    "    l, r = 0, len(input_array) - 1\n",
    "    while r >= l:\n",
    "        m = int(math.floor((l+r)/2))\n",
    "        if value > input_array[m]:\n",
    "            l = m + 1\n",
    "        elif value < input_array[m]:\n",
    "            r = m - 1\n",
    "        else:\n",
    "            return m\n",
    "    return -1\n",
    "\n",
    "# We search this list\n",
    "test = [1, 3, 9, 11, 15, 19, 29]\n",
    "\n",
    "# Should output -1\n",
    "print(binary_search(test, 25))\n",
    "\n",
    "# Should output 4\n",
    "print(binary_search(test, 15))\n",
    "\n",
    "# Should output 0\n",
    "print(binary_search(test, 1))"
   ]
  }
 ],
 "metadata": {
  "kernelspec": {
   "display_name": "Python 2",
   "language": "python",
   "name": "python2"
  },
  "language_info": {
   "codemirror_mode": {
    "name": "ipython",
    "version": 2
   },
   "file_extension": ".py",
   "mimetype": "text/x-python",
   "name": "python",
   "nbconvert_exporter": "python",
   "pygments_lexer": "ipython2",
   "version": "2.7.11"
  }
 },
 "nbformat": 4,
 "nbformat_minor": 0
}
