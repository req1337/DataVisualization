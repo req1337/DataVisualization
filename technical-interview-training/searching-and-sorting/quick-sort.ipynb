{
 "cells": [
  {
   "cell_type": "markdown",
   "metadata": {},
   "source": [
    "# Quicksort\n",
    "\n",
    "Quicksort (sometimes called partition-exchange sort) is an efficient sorting algorithm, serving as a systematic method for placing the elements of an array in order. Developed by Tony Hoare in 1959."
   ]
  },
  {
   "cell_type": "code",
   "execution_count": 27,
   "metadata": {
    "collapsed": false
   },
   "outputs": [
    {
     "data": {
      "text/plain": [
       "[1, 3, 4, 6, 9, 14, 20, 21, 21, 25]"
      ]
     },
     "execution_count": 27,
     "metadata": {},
     "output_type": "execute_result"
    }
   ],
   "source": [
    "def quicksort(a, l, r):\n",
    "    if l < r:\n",
    "        p = partition(a, l, r)\n",
    "        quicksort(a, l, p - 1)\n",
    "        quicksort(a, p + 1, r)\n",
    "    return a\n",
    "\n",
    "def partition(a, l, r):\n",
    "    p = a[l]\n",
    "    left = l+1\n",
    "    while r >= left:\n",
    "        while left <= r and a[left] <= p:\n",
    "            left += 1\n",
    "        while a[r] >= p and r >= left:\n",
    "            r -= 1\n",
    "        if r >= left:\n",
    "            a[left], a[r] = a[r], a[left]\n",
    "    a[l], a[r] = a[r], a[l]\n",
    "    return r\n",
    "\n",
    "a = [21, 4, 1, 3, 9, 20, 25, 6, 21, 14]\n",
    "\n",
    "quicksort(a, 0, len(a)-1)"
   ]
  }
 ],
 "metadata": {
  "kernelspec": {
   "display_name": "Python 2",
   "language": "python",
   "name": "python2"
  },
  "language_info": {
   "codemirror_mode": {
    "name": "ipython",
    "version": 2
   },
   "file_extension": ".py",
   "mimetype": "text/x-python",
   "name": "python",
   "nbconvert_exporter": "python",
   "pygments_lexer": "ipython2",
   "version": "2.7.11"
  }
 },
 "nbformat": 4,
 "nbformat_minor": 0
}
