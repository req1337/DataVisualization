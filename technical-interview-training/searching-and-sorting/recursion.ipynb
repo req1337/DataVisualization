{
 "cells": [
  {
   "cell_type": "code",
   "execution_count": 3,
   "metadata": {
    "collapsed": false
   },
   "outputs": [
    {
     "name": "stdout",
     "output_type": "stream",
     "text": [
      "34\n",
      "89\n",
      "0\n"
     ]
    }
   ],
   "source": [
    "\"\"\"Implement a function recursivly to get the desired Fibonacci sequence value.\"\"\"\n",
    "\n",
    "def get_fib(position):\n",
    "    if position < 2:\n",
    "        return position\n",
    "    return get_fib(position-1) + get_fib(position-2)\n",
    "\n",
    "# Test cases\n",
    "print get_fib(9)\n",
    "print get_fib(11)\n",
    "print get_fib(0)"
   ]
  }
 ],
 "metadata": {
  "kernelspec": {
   "display_name": "Python 2",
   "language": "python",
   "name": "python2"
  },
  "language_info": {
   "codemirror_mode": {
    "name": "ipython",
    "version": 2
   },
   "file_extension": ".py",
   "mimetype": "text/x-python",
   "name": "python",
   "nbconvert_exporter": "python",
   "pygments_lexer": "ipython2",
   "version": "2.7.11"
  }
 },
 "nbformat": 4,
 "nbformat_minor": 0
}
