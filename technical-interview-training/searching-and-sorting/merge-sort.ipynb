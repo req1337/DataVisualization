{
 "cells": [
  {
   "cell_type": "markdown",
   "metadata": {},
   "source": [
    "# Merge Sort\n",
    "\n",
    "Recursive implementation of the merge sort algorithm. In computer science, merge sort (also commonly spelled mergesort) is an efficient, general-purpose, comparison-based sorting algorithm. Mergesort is a divide and conquer algorithm that was invented by John von Neumann in 1945.\n",
    "\n",
    "<table style=\"float:left\">\n",
    "<tr><th>Algorithm<th colspan=3>Time Complexity<th>Space Complexity</tr>\n",
    "<tr><td><td>Best<td>Average<td>Worst<td>Worst</tr>\n",
    "<tr><td>Mergesort<td style=\"background-color:orange\">O(n log(n))<td style=\"background-color:orange\">O(n log(n))<td style=\"background-color:orange\">O(n log(n))<td style=\"background-color:yellow\">O(n)</tr>"
   ]
  },
  {
   "cell_type": "code",
   "execution_count": 7,
   "metadata": {
    "collapsed": false
   },
   "outputs": [
    {
     "data": {
      "text/plain": [
       "[1, 3, 4, 9, 20, 21, 25]"
      ]
     },
     "execution_count": 7,
     "metadata": {},
     "output_type": "execute_result"
    }
   ],
   "source": [
    "def merge_sort(a):\n",
    "    \n",
    "    if len(a) <= 1:\n",
    "        return a\n",
    "        \n",
    "    l = merge_sort(a[:len(a)/2])\n",
    "    r = merge_sort(a[len(a)/2:])\n",
    "    \n",
    "    return merge(l, r)\n",
    "\n",
    "def merge(l, r):\n",
    "    \n",
    "    res = []\n",
    "    \n",
    "    while l and r:\n",
    "        if l[0] <= r[0]:\n",
    "            res.append(l.pop(0))\n",
    "        else:\n",
    "            res.append(r.pop(0))\n",
    "    \n",
    "    while l:\n",
    "        res.append(l.pop(0))\n",
    "    while r:\n",
    "        res.append(r.pop(0))\n",
    "        \n",
    "    return res\n",
    "\n",
    "a = [21, 4, 1, 3, 9, 20, 25]\n",
    "\n",
    "merge_sort(a)"
   ]
  }
 ],
 "metadata": {
  "kernelspec": {
   "display_name": "Python 2",
   "language": "python",
   "name": "python2"
  },
  "language_info": {
   "codemirror_mode": {
    "name": "ipython",
    "version": 2
   },
   "file_extension": ".py",
   "mimetype": "text/x-python",
   "name": "python",
   "nbconvert_exporter": "python",
   "pygments_lexer": "ipython2",
   "version": "2.7.11"
  }
 },
 "nbformat": 4,
 "nbformat_minor": 0
}
