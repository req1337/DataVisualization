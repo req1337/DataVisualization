{
 "cells": [
  {
   "cell_type": "code",
   "execution_count": 7,
   "metadata": {
    "collapsed": false
   },
   "outputs": [
    {
     "name": "stdout",
     "output_type": "stream",
     "text": [
      "[4, 1, 3, 9, 20, 21, 6, 21, 14, 25]\n",
      "[1, 3, 4, 9, 20, 6, 21, 14, 21, 25]\n",
      "[1, 3, 4, 9, 6, 20, 14, 21, 21, 25]\n",
      "[1, 3, 4, 6, 9, 14, 20, 21, 21, 25]\n",
      "[1, 3, 4, 6, 9, 14, 20, 21, 21, 25]\n"
     ]
    },
    {
     "data": {
      "text/plain": [
       "[1, 3, 4, 6, 9, 14, 20, 21, 21, 25]"
      ]
     },
     "execution_count": 7,
     "metadata": {},
     "output_type": "execute_result"
    }
   ],
   "source": [
    "def bubble_sort(a):\n",
    "    n, swapped = len(a), True\n",
    "    while swapped == True:\n",
    "        swapped = False\n",
    "        for i in range(n-1):\n",
    "            if a[i] > a[i+1]:\n",
    "                a[i], a[i+1] = a[i+1], a[i]\n",
    "                swapped = True\n",
    "        print(a)\n",
    "    return a\n",
    "    \n",
    "array = [21, 4, 1, 3, 9, 20, 25, 6, 21, 14]\n",
    "\n",
    "bubble_sort(array)"
   ]
  }
 ],
 "metadata": {
  "kernelspec": {
   "display_name": "Python 2",
   "language": "python",
   "name": "python2"
  },
  "language_info": {
   "codemirror_mode": {
    "name": "ipython",
    "version": 2
   },
   "file_extension": ".py",
   "mimetype": "text/x-python",
   "name": "python",
   "nbconvert_exporter": "python",
   "pygments_lexer": "ipython2",
   "version": "2.7.11"
  }
 },
 "nbformat": 4,
 "nbformat_minor": 0
}
