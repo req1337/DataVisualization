{
 "cells": [
  {
   "cell_type": "markdown",
   "metadata": {},
   "source": [
    "# Algorithmic Efficiency\n",
    "\n",
    "In computer science, algorithm efficiency are the properties of an algorithm which relate to the amount of computational resources used by the algorithm.\n",
    "\n",
    "## Notation\n",
    "\n",
    "In the theoretical analysis of algorithms, the normal practice is to **estimate their complexity** in the asymptotic sense (describing limiting behavior), i.e. using the **Big O notation**. The Big O notation is a mathematical notation that describes the limiting behavior of a function when the argument tends towards a particular value of infinity. In computer science the notation is used to classify algorithms by how they respond to changes in input size.\n",
    "\n",
    "### Example\n",
    "\n",
    "Consider following simplified example where we have a simple **decode** function which decodes a string of **length n**."
   ]
  },
  {
   "cell_type": "code",
   "execution_count": 4,
   "metadata": {
    "collapsed": false
   },
   "outputs": [
    {
     "name": "stdout",
     "output_type": "stream",
     "text": [
      "yes\n"
     ]
    }
   ],
   "source": [
    "cipher = {\"a\": \"y\", \"b\": \"e\", \"c\": \"s\"}\n",
    "\n",
    "def decode(input):\n",
    "    output = \"\"\n",
    "    for letter in input:\n",
    "        deciphered = cipher[letter]\n",
    "        output += deciphered\n",
    "    return output\n",
    "\n",
    "print(decode(\"abc\"))"
   ]
  },
  {
   "cell_type": "markdown",
   "metadata": {},
   "source": [
    "Creating the output string and returning the output is only done twice, meaning we must add **+ 2**. Looking up the dictionary and appending the string to the output must each be done for every letter in the input, giving us **2n**. The total complexity of the function is therefore **O(2n + 2)**.\n",
    "\n",
    "* When the length of the input string is 100 (n=100) the calculation would look like this 2*(10) + 2 == 22. You can then multiply this value with the number of time your computer takes to run one line of code\n",
    "\n",
    "## Worst Case\n",
    "\n",
    "By approximating we are simply saying that \"some number of computations must be performed for **EACH** letter in the input\". The worst case scenario puts an upper bound on the amount of time our code is going to take. You can also talk about complexity in terms of the **average case** and **best case**.\n",
    "\n",
    "## Space Efficiency\n",
    "\n",
    "## Quiz - Efficiency Practice"
   ]
  },
  {
   "cell_type": "code",
   "execution_count": null,
   "metadata": {
    "collapsed": true
   },
   "outputs": [],
   "source": [
    "\"\"\"input manatees: a list of \"manatees\", where one manatee is represented by a dictionary\n",
    "a single manatee has properties like \"name\", \"age\", et cetera\n",
    "n = the number of elements in \"manatees\"\n",
    "m = the number of properties per \"manatee\" (i.e. the number of keys in a manatee dictionary)\"\"\"\n",
    "\n",
    "# O(n)\n",
    "def example1(manatees):\n",
    "    for manatee in manatees:\n",
    "        print manatee['name']\n",
    "\n",
    "# O(1)\n",
    "def example2(manatees):\n",
    "    print manatees[0]['name']\n",
    "    print manatees[0]['age']\n",
    "\n",
    "# O(nm)    \n",
    "def example3(manatees):\n",
    "    for manatee in manatees:\n",
    "        for manatee_property in manatee:\n",
    "            print manatee_property, \": \", manatee[manatee_property]\n",
    "\n",
    "# O(n^2)\n",
    "def example4(manatees):\n",
    "    oldest_manatee = \"No manatees here!\"\n",
    "    for manatee1 in manatees:\n",
    "        for manatee2 in manatees:\n",
    "            if manatee1['age'] < manatee2['age']:\n",
    "                oldest_manatee = manatee2['name']\n",
    "            else:\n",
    "                oldest_manatee = manatee1['name']\n",
    "    print oldest_manatee"
   ]
  }
 ],
 "metadata": {
  "kernelspec": {
   "display_name": "Python 2",
   "language": "python",
   "name": "python2"
  },
  "language_info": {
   "codemirror_mode": {
    "name": "ipython",
    "version": 2
   },
   "file_extension": ".py",
   "mimetype": "text/x-python",
   "name": "python",
   "nbconvert_exporter": "python",
   "pygments_lexer": "ipython2",
   "version": "2.7.11"
  }
 },
 "nbformat": 4,
 "nbformat_minor": 0
}
